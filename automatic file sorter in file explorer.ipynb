{
 "cells": [
  {
   "cell_type": "markdown",
   "id": "2be53c38-50e6-4614-b051-d382f6e7a874",
   "metadata": {},
   "source": [
    "# automatic file sorter in file explorer"
   ]
  },
  {
   "cell_type": "code",
   "execution_count": 1,
   "id": "f6f02430-6492-443d-9483-a22e7a38db7e",
   "metadata": {},
   "outputs": [],
   "source": [
    "import os, shutil"
   ]
  },
  {
   "cell_type": "code",
   "execution_count": 15,
   "id": "6a8b9cd2-5d1a-4a2f-b8da-6ed3a69d92d8",
   "metadata": {},
   "outputs": [],
   "source": [
    "path = r'C:/Users/MSI-1/Desktop/New folder/'"
   ]
  },
  {
   "cell_type": "code",
   "execution_count": 19,
   "id": "f8c6a70d-454f-4061-9a87-3ccd2bf76a2d",
   "metadata": {},
   "outputs": [],
   "source": [
    "file_name = os.listdir(path)"
   ]
  },
  {
   "cell_type": "code",
   "execution_count": null,
   "id": "ec4025b7-fef2-407d-94bd-dc263544ef75",
   "metadata": {},
   "outputs": [],
   "source": [
    "folder_names = ['csv files' , 'image files' , 'text files']\n",
    "\n",
    "for loop in range(0,3):\n",
    "    if not os.path.exists(path + folder_names[loop]):\n",
    "        print(path + folder_names[loop])\n",
    "        os.makedirs((path + folder_names[loop]))"
   ]
  },
  {
   "cell_type": "code",
   "execution_count": 21,
   "id": "d5420a11-1aab-4af4-9555-daefd7a7b84f",
   "metadata": {},
   "outputs": [],
   "source": [
    "for file in file_name:\n",
    "    if '.csv' in file and not os.path.exists(path + 'csv files/' + file):\n",
    "        shutil.move(path + file,path + 'csv files/' + file) \n",
    "    if '.png' in file and not os.path.exists(path + 'image files/' + file):\n",
    "        shutil.move(path + file,path + 'image files/' + file) \n",
    "    if '.txt' in file and not os.path.exists(path + 'text files/' + file):\n",
    "        shutil.move(path + file,path + 'text files/' + file) "
   ]
  },
  {
   "cell_type": "code",
   "execution_count": null,
   "id": "1e36a08e-2a3e-483b-9996-1c465320c6e1",
   "metadata": {},
   "outputs": [],
   "source": []
  }
 ],
 "metadata": {
  "kernelspec": {
   "display_name": "Python 3 (ipykernel)",
   "language": "python",
   "name": "python3"
  },
  "language_info": {
   "codemirror_mode": {
    "name": "ipython",
    "version": 3
   },
   "file_extension": ".py",
   "mimetype": "text/x-python",
   "name": "python",
   "nbconvert_exporter": "python",
   "pygments_lexer": "ipython3",
   "version": "3.13.5"
  }
 },
 "nbformat": 4,
 "nbformat_minor": 5
}
