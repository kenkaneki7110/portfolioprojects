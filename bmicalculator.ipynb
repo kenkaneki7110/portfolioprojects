{
 "cells": [
  {
   "cell_type": "code",
   "execution_count": 1,
   "id": "a5b07ec5-cd6c-41b4-9316-0ee2feb082ee",
   "metadata": {},
   "outputs": [],
   "source": [
    "#bmi calculator formulae = weight(in kilo)/height squared(in meters)"
   ]
  },
  {
   "cell_type": "code",
   "execution_count": null,
   "id": "2a60160d-978e-491b-9690-133c6b585b47",
   "metadata": {},
   "outputs": [],
   "source": [
    "weight = int(input('enter your weight in kg '))\n",
    "\n",
    "height = int(input('enter your height in cm ')) \n",
    "\n",
    "height = height/100\n",
    "\n",
    "bmi = weight/(height**2) \n",
    "float(bmi)"
   ]
  },
  {
   "cell_type": "code",
   "execution_count": null,
   "id": "929f1f2e-6641-47d1-ab33-7177960ecc65",
   "metadata": {},
   "outputs": [],
   "source": [
    "if bmi <= 0:\n",
    "    if(bmi < 18.5):\n",
    "        print('underweight')\n",
    "        print('health risk : possible nutritional deficiency and low immunity')\n",
    "elif (bmi<= 22.9):\n",
    "    print('overweight')\n",
    "    print('health risk : increased risk of heart disease and diabetes')\n",
    "elif (bmi<=24.9):\n",
    "    print('pre-obese')\n",
    "    print('health risk : moderate risk of cardiovacular issues')\n",
    "elif (bmi<=29.9):\n",
    "    print('obese')\n",
    "    print('health risk : high risk of diabetes, hypertension, heart disease')\n",
    "elif(bmi>=30):\n",
    "    print('severly obese')\n",
    "else:\n",
    "    print('enter valid inputs')"
   ]
  },
  {
   "cell_type": "code",
   "execution_count": null,
   "id": "15475454-ac24-4d22-b0be-40ff0c961eaa",
   "metadata": {},
   "outputs": [],
   "source": []
  },
  {
   "cell_type": "code",
   "execution_count": null,
   "id": "007a7051-198f-4891-8bd3-63feab1cb66b",
   "metadata": {},
   "outputs": [],
   "source": []
  }
 ],
 "metadata": {
  "kernelspec": {
   "display_name": "Python 3 (ipykernel)",
   "language": "python",
   "name": "python3"
  },
  "language_info": {
   "codemirror_mode": {
    "name": "ipython",
    "version": 3
   },
   "file_extension": ".py",
   "mimetype": "text/x-python",
   "name": "python",
   "nbconvert_exporter": "python",
   "pygments_lexer": "ipython3",
   "version": "3.13.5"
  }
 },
 "nbformat": 4,
 "nbformat_minor": 5
}
